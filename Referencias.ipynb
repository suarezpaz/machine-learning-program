{
 "cells": [
  {
   "cell_type": "markdown",
   "id": "3fad7107-20b9-4fe1-a228-9afd210e9013",
   "metadata": {},
   "source": [
    "Comprender las ayudas de `tab` y `shift + tab`\n",
    "\n",
    "- https://blog.pythonassembly.com/como-ser-mas-productivo-en-python"
   ]
  },
  {
   "cell_type": "code",
   "execution_count": null,
   "id": "39dfb19e-7aec-4ba5-8a0a-a204b8a64b26",
   "metadata": {},
   "outputs": [],
   "source": []
  }
 ],
 "metadata": {
  "kernelspec": {
   "display_name": "Python 3 (ipykernel)",
   "language": "python",
   "name": "python3"
  },
  "language_info": {
   "codemirror_mode": {
    "name": "ipython",
    "version": 3
   },
   "file_extension": ".py",
   "mimetype": "text/x-python",
   "name": "python",
   "nbconvert_exporter": "python",
   "pygments_lexer": "ipython3",
   "version": "3.9.7"
  }
 },
 "nbformat": 4,
 "nbformat_minor": 5
}
